{
 "cells": [
  {
   "cell_type": "code",
   "execution_count": null,
   "metadata": {},
   "outputs": [],
   "source": [
    "import serial\n",
    "import time\n",
    "import csv\n",
    "import datetime as dt"
   ]
  },
  {
   "cell_type": "code",
   "execution_count": null,
   "metadata": {},
   "outputs": [],
   "source": [
    "arduino = serial.Serial(port='COM5', baudrate=9600, timeout=1)"
   ]
  },
  {
   "cell_type": "code",
   "execution_count": null,
   "metadata": {},
   "outputs": [],
   "source": [
    "f = open(\"da.csv\", \"a+\")\n",
    "writer = csv.writer(f, delimiter=',')\n",
    "\n",
    "while True :\n",
    "    b = arduino.readline()         # read a byte string\n",
    "    string_n = b.decode()  # decode byte string into Unicode  \n",
    "    string = string_n.rstrip() # remove \\n and \\r\n",
    "    #flt = float(string)        # convert string to float\n",
    "    #print(flt)\n",
    "    if string != \"\":\n",
    "        rows = [float(x) for x in string.split(',')]\n",
    "        waktu = dt.datetime.now().strftime('%M:%S.%f')\n",
    "        rows.insert(0, waktu)\n",
    "        writer.writerow(rows)\n",
    "        f.flush()\n",
    "    data_split = string.split(',')\n",
    "    kecepatan = data_split[0]\n",
    "    sudut = data_split[1]\n",
    "    arus = data_split[2]\n",
    "    print(arus) "
   ]
  }
 ],
 "metadata": {
  "kernelspec": {
   "display_name": "Python 3.10.8 64-bit (microsoft store)",
   "language": "python",
   "name": "python3"
  },
  "language_info": {
   "codemirror_mode": {
    "name": "ipython",
    "version": 3
   },
   "file_extension": ".py",
   "mimetype": "text/x-python",
   "name": "python",
   "nbconvert_exporter": "python",
   "pygments_lexer": "ipython3",
   "version": "3.10.8"
  },
  "orig_nbformat": 4,
  "vscode": {
   "interpreter": {
    "hash": "e0acaf148705ed9ed86cc5cad12259d7985e30670e5686e5f55604a9b3b84a55"
   }
  }
 },
 "nbformat": 4,
 "nbformat_minor": 2
}
