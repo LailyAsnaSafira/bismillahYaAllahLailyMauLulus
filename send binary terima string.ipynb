{
 "cells": [
  {
   "cell_type": "code",
   "execution_count": 1,
   "metadata": {},
   "outputs": [],
   "source": [
    "import serial\n",
    "import time\n",
    "import csv\n",
    "import datetime as dt"
   ]
  },
  {
   "cell_type": "code",
   "execution_count": null,
   "metadata": {},
   "outputs": [],
   "source": [
    "arduino = serial.Serial(port='COM5', baudrate=9600, timeout=1)"
   ]
  },
  {
   "cell_type": "code",
   "execution_count": 3,
   "metadata": {},
   "outputs": [
    {
     "name": "stdout",
     "output_type": "stream",
     "text": [
      "1000110a1010000b1000110c100\n"
     ]
    }
   ],
   "source": [
    "kipos = 70\n",
    "kivel = 80\n",
    "kpvel = 70\n",
    "setvel = 4\n",
    "binary = format(kipos,'b')\n",
    "binary1 = format(kivel,'b')\n",
    "binary2 = format(kpvel,'b')\n",
    "binary3 = format(setvel,'b')\n",
    "data_kirim = binary + 'a' + binary1 + 'b'+ binary2 + 'c' + binary3\n",
    "print(data_kirim)\n",
    "\n"
   ]
  },
  {
   "cell_type": "code",
   "execution_count": null,
   "metadata": {},
   "outputs": [],
   "source": [
    "commandToSend = (data_kirim)\n",
    "\n",
    "while True:\n",
    "    arduino.write(str(commandToSend).encode())\n",
    "    time.sleep(1)\n",
    "    while True:\n",
    "        try:\n",
    "            f = open(\"dataread.csv\", \"a+\")\n",
    "            writer = csv.writer(f, delimiter=',')\n",
    "            readOut = arduino.readline().decode('ascii')\n",
    "            string = readOut.rstrip() # remove \\n and \\r\n",
    "            rows = [float(x) for x in string.split(',')]\n",
    "            waktu = dt.datetime.now().strftime('%M:%S.%f')\n",
    "            rows.insert(0, waktu)\n",
    "            writer.writerow(rows)\n",
    "            print (readOut) \n",
    "            break\n",
    "        except:\n",
    "            pass"
   ]
  }
 ],
 "metadata": {
  "kernelspec": {
   "display_name": "Python 3",
   "language": "python",
   "name": "python3"
  },
  "language_info": {
   "codemirror_mode": {
    "name": "ipython",
    "version": 3
   },
   "file_extension": ".py",
   "mimetype": "text/x-python",
   "name": "python",
   "nbconvert_exporter": "python",
   "pygments_lexer": "ipython3",
   "version": "3.10.9"
  },
  "orig_nbformat": 4,
  "vscode": {
   "interpreter": {
    "hash": "7b1f2b33e866b0bf2409397e5f58ba9cdf170d3b7f64c8f359c79998e2f88ad4"
   }
  }
 },
 "nbformat": 4,
 "nbformat_minor": 2
}
